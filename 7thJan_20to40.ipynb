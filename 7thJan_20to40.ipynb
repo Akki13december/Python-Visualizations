{
 "cells": [
  {
   "cell_type": "code",
   "execution_count": 45,
   "id": "5c9c7e9d",
   "metadata": {},
   "outputs": [],
   "source": [
    "import seaborn as sns\n",
    "import pandas as pd\n",
    "import numpy as np\n",
    "import matplotlib.pyplot as plt"
   ]
  },
  {
   "cell_type": "code",
   "execution_count": 3,
   "id": "952b0f87",
   "metadata": {},
   "outputs": [],
   "source": [
    "#Reading the data into the dataframe\n",
    "hosp_df=pd.read_excel(\"E:\\Data analytics\\python\\HospitalDatabase.xlsx\",\"Patients\")"
   ]
  },
  {
   "cell_type": "markdown",
   "id": "ba2138e1",
   "metadata": {},
   "source": [
    "## 31. Find the count of White Spanish Male."
   ]
  },
  {
   "cell_type": "code",
   "execution_count": 4,
   "id": "3d5e1474",
   "metadata": {},
   "outputs": [],
   "source": [
    "hosp_df=pd.read_excel(\"E:\\Data analytics\\python\\HospitalDatabase.xlsx\",\"Patients\")"
   ]
  },
  {
   "cell_type": "code",
   "execution_count": 5,
   "id": "946f1d10",
   "metadata": {},
   "outputs": [
    {
     "data": {
      "text/plain": [
       "15"
      ]
     },
     "execution_count": 5,
     "metadata": {},
     "output_type": "execute_result"
    }
   ],
   "source": [
    "len (hosp_df[(hosp_df['Race']=='White') & (hosp_df['Language']=='Spanish') & (hosp_df['Gender']=='Male')])"
   ]
  },
  {
   "cell_type": "markdown",
   "id": "e3756a5b",
   "metadata": {},
   "source": [
    "## 37. Write a function to print all the upper case letter of a given sentence.\n"
   ]
  },
  {
   "cell_type": "code",
   "execution_count": 50,
   "id": "a037e0e2",
   "metadata": {},
   "outputs": [],
   "source": [
    "def only_upper(s):\n",
    "    upper_chars = \"\"\n",
    "    for char in s:\n",
    "        if char.isupper():\n",
    "            upper_chars += char\n",
    "    return upper_chars "
   ]
  },
  {
   "cell_type": "code",
   "execution_count": 52,
   "id": "412cd2b1",
   "metadata": {},
   "outputs": [
    {
     "name": "stdout",
     "output_type": "stream",
     "text": [
      "enter a stringQdEFrgthERT\n"
     ]
    },
    {
     "data": {
      "text/plain": [
       "'QEFERT'"
      ]
     },
     "execution_count": 52,
     "metadata": {},
     "output_type": "execute_result"
    }
   ],
   "source": [
    "s= input(\"enter a string\")\n",
    "only_upper(s)"
   ]
  },
  {
   "cell_type": "markdown",
   "id": "65208bd8",
   "metadata": {},
   "source": [
    "## 23. Write a function to find the center element in the list. (one element in odd length list,  two elements in even length list).\n"
   ]
  },
  {
   "cell_type": "code",
   "execution_count": 68,
   "id": "84a8c984",
   "metadata": {},
   "outputs": [],
   "source": [
    "def Mid_ele(input_list):\n",
    "    middle = float(len(input_list))/2\n",
    "    if middle % 2 != 0:\n",
    "        return input_list[int(middle - .5)]\n",
    "    else:\n",
    "        return (input_list[int(middle)], input_list[int(middle-1)])"
   ]
  },
  {
   "cell_type": "code",
   "execution_count": 72,
   "id": "cb3cdda4",
   "metadata": {},
   "outputs": [
    {
     "data": {
      "text/plain": [
       "3"
      ]
     },
     "execution_count": 72,
     "metadata": {},
     "output_type": "execute_result"
    }
   ],
   "source": [
    "#1 element in odd length list\n",
    "lst=[1,2,3,4,5]\n",
    "Mid_ele(lst)"
   ]
  },
  {
   "cell_type": "code",
   "execution_count": null,
   "id": "b2993adf",
   "metadata": {},
   "outputs": [],
   "source": []
  },
  {
   "cell_type": "code",
   "execution_count": null,
   "id": "1de437d4",
   "metadata": {},
   "outputs": [],
   "source": []
  },
  {
   "cell_type": "code",
   "execution_count": null,
   "id": "5bed4d3f",
   "metadata": {},
   "outputs": [],
   "source": []
  },
  {
   "cell_type": "code",
   "execution_count": null,
   "id": "eb02ff3e",
   "metadata": {},
   "outputs": [],
   "source": []
  },
  {
   "cell_type": "code",
   "execution_count": null,
   "id": "aad726fb",
   "metadata": {},
   "outputs": [],
   "source": []
  },
  {
   "cell_type": "code",
   "execution_count": null,
   "id": "d1cd8a78",
   "metadata": {},
   "outputs": [],
   "source": []
  }
 ],
 "metadata": {
  "kernelspec": {
   "display_name": "Python 3 (ipykernel)",
   "language": "python",
   "name": "python3"
  },
  "language_info": {
   "codemirror_mode": {
    "name": "ipython",
    "version": 3
   },
   "file_extension": ".py",
   "mimetype": "text/x-python",
   "name": "python",
   "nbconvert_exporter": "python",
   "pygments_lexer": "ipython3",
   "version": "3.9.13"
  }
 },
 "nbformat": 4,
 "nbformat_minor": 5
}
